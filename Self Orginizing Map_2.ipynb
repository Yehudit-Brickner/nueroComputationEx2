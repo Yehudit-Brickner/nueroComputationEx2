{
 "cells": [
  {
   "cell_type": "code",
   "execution_count": 1,
   "metadata": {},
   "outputs": [],
   "source": [
    "import numpy as np\n",
    "import pandas as pd\n",
    "import matplotlib.pyplot as plt\n",
    "import seaborn as sns\n",
    "import random\n",
    "import warnings\n",
    "warnings.filterwarnings('ignore')\n",
    "from matplotlib.pyplot import figure\n",
    "import cv2"
   ]
  },
  {
   "cell_type": "code",
   "execution_count": null,
   "metadata": {},
   "outputs": [],
   "source": [
    "def print_graph(nlist,slist):\n",
    "    figure(figsize=(15, 8))\n",
    "    X=[]\n",
    "    Y=[]\n",
    "    for i in range(len(nlist)):\n",
    "        for j in range(len(nlist[i])):\n",
    "            X.append(nlist[i][j][0])\n",
    "            Y.append(nlist[i][j][1])\n",
    "            plt.annotate((i, j),(nlist[i][j][0],nlist[i][j][1]))\n",
    "            plt.plot(nlist[i][j][0],nlist[i][j][1],'*r')\n",
    "    Xp=[]\n",
    "    Yp=[]\n",
    "    for n in slist:\n",
    "        Xp.append(n[0])\n",
    "        Yp.append(n[1])\n",
    "    plt.plot(Xp,Yp,'.')\n",
    "    plt.show()"
   ]
  },
  {
   "cell_type": "code",
   "execution_count": null,
   "metadata": {},
   "outputs": [],
   "source": [
    "def check_new(new):\n",
    "    if new[0]>1:\n",
    "        new[0]=1\n",
    "    if new[0]<0:\n",
    "        new[0]=0\n",
    "    if new[1]>1:\n",
    "        new[1]=1\n",
    "    if new[1]<0:\n",
    "        new[1]=0\n",
    "    return new"
   ]
  },
  {
   "cell_type": "code",
   "execution_count": null,
   "metadata": {},
   "outputs": [],
   "source": [
    "def make_nlist():\n",
    "    nueron_lst = []\n",
    "    row = []\n",
    "    xarr = np.arange(9)\n",
    "    xarr = np.true_divide(xarr, 9)\n",
    "    xarr = np.append(xarr, 1)\n",
    "    \n",
    "    yarr = np.arange(9)\n",
    "    yarr = np.true_divide(yarr, 9)\n",
    "    yarr = np.append(yarr, 1)\n",
    "    for j in range(10):\n",
    "        row = []\n",
    "        for i in range(len(xarr)):\n",
    "            row.append([xarr[i] ,yarr[j]])\n",
    "        nueron_lst.append(row)\n",
    "    return nueron_lst"
   ]
  },
  {
   "cell_type": "code",
   "execution_count": null,
   "metadata": {},
   "outputs": [],
   "source": [
    "def SOM(data):\n",
    "    nueron_lst=make_nlist()\n",
    "    mid = 10\n",
    "    num = 5\n",
    "    alpha = 0.5\n",
    "    \n",
    "    ker = cv2.getGaussianKernel(mid * 2 + 1,-1)\n",
    "    ker = ker.dot(ker.T)\n",
    "    \n",
    "    sampled_points = []\n",
    "    for i in range(25):\n",
    "        print(\"iteration \",i )\n",
    "        print_graph(nueron_lst, sampled_points)\n",
    "        if i > 0 and i % 5 == 0:\n",
    "            num -= 1\n",
    "        sampled_points = []\n",
    "        data = data.sample(frac=1)\n",
    "        for index, row in data.iterrows():\n",
    "            sampled_points.append(np.array([row[0], row[1]]))\n",
    "            small_dist = np.inf\n",
    "\n",
    "            # find closest nueron\n",
    "            for n in range(len(nueron_lst)):\n",
    "                for r in range(len(nueron_lst[n])):\n",
    "                    dist = np.sqrt((row[0] - nueron_lst[n][r][0]) ** 2 + (row[1] - nueron_lst[n][r][1]) ** 2)\n",
    "                    if dist < small_dist:\n",
    "                        small_dist = dist\n",
    "                        spot = (n, r)\n",
    "                        \n",
    "            # update weights of nuerons\n",
    "#             new = nueron_lst[spot[0]][spot[1]] + alpha * ker[mid][mid] * (sampled_points[-1] - nueron_lst[spot[0]][spot[1]])\n",
    "#             new = check_new(new)\n",
    "#             nueron_lst[spot[0]][spot[1]] = new\n",
    "            \n",
    "            # update weights \n",
    "            mid_j = 5\n",
    "            for j in range(spot[0] - num, spot[0] + num + 1):\n",
    "                mid_k = 5\n",
    "                for k in range(spot[1] - num, spot[1] + num + 1):\n",
    "                    if 0 <= j < len(nueron_lst) and 0 <= k < len(nueron_lst[j]):\n",
    "#                         print(spot, j, k)\n",
    "#                         if j == spot[0] and k == spot[1]:\n",
    "#                             print(mid_j, mid_k)\n",
    "                        new = nueron_lst[j][k] + alpha * ker[mid_j][mid_k] * (sampled_points[-1] - nueron_lst[j][k])\n",
    "                        nueron_lst[j][k] = new\n",
    "                    \n",
    "                    mid_k += 1\n",
    "                mid_j += 1\n",
    "\n",
    "    print(\"iteration \",i )\n",
    "    print_graph(nueron_lst,sampled_points)"
   ]
  },
  {
   "cell_type": "code",
   "execution_count": null,
   "metadata": {
    "scrolled": false
   },
   "outputs": [],
   "source": [
    "nueron_lst = make_nlist()\n",
    "# X = []\n",
    "# Y = []\n",
    "# for n in nueron_lst:\n",
    "#     for r in n:\n",
    "#         X.append(r[0])\n",
    "#         Y.append(r[1])\n",
    "# figure(figsize=(15, 8))\n",
    "# # plt.plot(X,Y)\n",
    "# plt.plot(X,Y,\"*r\")\n",
    "# plt.show()"
   ]
  },
  {
   "cell_type": "code",
   "execution_count": null,
   "metadata": {},
   "outputs": [],
   "source": [
    "data = pd.DataFrame()\n",
    "random.seed(1)\n",
    "for i in range(1000):\n",
    "    randX = random.uniform(0, 1)\n",
    "    randY = random.uniform(0, 1)\n",
    "    data[i] = [randX, randY]\n",
    "data = data.T\n",
    "# X=[]\n",
    "# Y=[]\n",
    "# for index,row in data.iterrows():\n",
    "#     X.append(row[0])\n",
    "#     Y.append(row[1])\n",
    "# figure(figsize=(15, 8))\n",
    "# # plt.plot(X,Y)\n",
    "# plt.plot(X,Y,\"*r\")\n",
    "# plt.show()"
   ]
  },
  {
   "cell_type": "code",
   "execution_count": null,
   "metadata": {
    "scrolled": false
   },
   "outputs": [],
   "source": [
    "SOM(data)"
   ]
  },
  {
   "cell_type": "code",
   "execution_count": null,
   "metadata": {},
   "outputs": [],
   "source": [
    "data5 = pd.DataFrame()\n",
    "random.seed(1)\n",
    "for i in range(1000):\n",
    "    randX = random.uniform(0, 1)\n",
    "    randY = random.uniform(0, 1)\n",
    "    if randX <= 0.5:\n",
    "        randX = randX ** 2\n",
    "    else:\n",
    "        randX = randX ** 0.5\n",
    "    if randY <= 0.5:\n",
    "        randY = randY ** 2\n",
    "    else:\n",
    "        randY = randY ** 0.5\n",
    "    data5[i] = [randX, randY]\n",
    "data5 = data5.T\n",
    "# X = []\n",
    "# Y = []\n",
    "# for index,row in data5.iterrows():\n",
    "#     X.append(row[0])\n",
    "#     Y.append(row[1])\n",
    "# figure(figsize=(15, 8))\n",
    "# # plt.plot(X,Y)\n",
    "# plt.plot(X,Y,\"ro\")\n",
    "# plt.show()"
   ]
  },
  {
   "cell_type": "code",
   "execution_count": null,
   "metadata": {
    "scrolled": false
   },
   "outputs": [],
   "source": [
    "SOM(data5)"
   ]
  },
  {
   "cell_type": "code",
   "execution_count": null,
   "metadata": {},
   "outputs": [],
   "source": []
  }
 ],
 "metadata": {
  "kernelspec": {
   "display_name": "Python 3",
   "language": "python",
   "name": "python3"
  },
  "language_info": {
   "codemirror_mode": {
    "name": "ipython",
    "version": 3
   },
   "file_extension": ".py",
   "mimetype": "text/x-python",
   "name": "python",
   "nbconvert_exporter": "python",
   "pygments_lexer": "ipython3",
   "version": "3.8.3"
  }
 },
 "nbformat": 4,
 "nbformat_minor": 4
}
